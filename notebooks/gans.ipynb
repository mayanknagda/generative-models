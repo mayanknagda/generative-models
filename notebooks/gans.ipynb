{
 "cells": [
  {
   "cell_type": "code",
   "execution_count": 1,
   "metadata": {},
   "outputs": [
    {
     "name": "stdout",
     "output_type": "stream",
     "text": [
      "Added root path to sys.path\n"
     ]
    }
   ],
   "source": [
    "# to add the root path to sys.path so that we can import the modules we have created\n",
    "import os\n",
    "import sys\n",
    "module_path = os.path.abspath(os.path.join('..'))\n",
    "if module_path not in sys.path:\n",
    "    sys.path.append(module_path)\n",
    "    print('Added root path to sys.path')"
   ]
  },
  {
   "cell_type": "code",
   "execution_count": 2,
   "metadata": {},
   "outputs": [],
   "source": [
    "# general imports\n",
    "import utils\n",
    "import torch\n",
    "import torch.nn as nn\n",
    "import numpy as np\n",
    "import matplotlib.pyplot as plt\n",
    "import scienceplots\n",
    "plt.style.use(['science', 'grid', 'no-latex'])"
   ]
  },
  {
   "attachments": {},
   "cell_type": "markdown",
   "metadata": {},
   "source": [
    "## Import Data"
   ]
  },
  {
   "attachments": {},
   "cell_type": "markdown",
   "metadata": {},
   "source": [
    "Import data from the utils module. Then we check the shape of the data. After that we plot two samples to see how the data looks like."
   ]
  },
  {
   "cell_type": "code",
   "execution_count": 3,
   "metadata": {},
   "outputs": [],
   "source": [
    "mnist = utils.get_data(\"mnist\")\n",
    "data = next(iter(mnist['train_dl']))\n",
    "images, labels = data"
   ]
  },
  {
   "cell_type": "code",
   "execution_count": 4,
   "metadata": {},
   "outputs": [
    {
     "data": {
      "text/plain": [
       "(torch.Size([128, 1, 28, 28]), torch.Size([128]))"
      ]
     },
     "execution_count": 4,
     "metadata": {},
     "output_type": "execute_result"
    }
   ],
   "source": [
    "images.shape, labels.shape"
   ]
  },
  {
   "cell_type": "code",
   "execution_count": 5,
   "metadata": {},
   "outputs": [
    {
     "data": {
      "text/plain": [
       "(<matplotlib.image.AxesImage at 0x28ba9ffd0>, tensor(8))"
      ]
     },
     "execution_count": 5,
     "metadata": {},
     "output_type": "execute_result"
    },
    {
     "data": {
      "image/png": "[encoded data removed]",
      "text/plain": [
       "<Figure size 350x262.5 with 1 Axes>"
      ]
     },
     "metadata": {},
     "output_type": "display_data"
    }
   ],
   "source": [
    "plt.imshow(images[0].squeeze(), cmap='gray'), labels[0]"
   ]
  },
  {
   "cell_type": "code",
   "execution_count": 6,
   "metadata": {},
   "outputs": [
    {
     "data": {
      "text/plain": [
       "(<matplotlib.image.AxesImage at 0x291831570>, tensor(4))"
      ]
     },
     "execution_count": 6,
     "metadata": {},
     "output_type": "execute_result"
    },
    {
     "data": {
      "image/png": "[encoded data removed]",
      "text/plain": [
       "<Figure size 350x262.5 with 1 Axes>"
      ]
     },
     "metadata": {},
     "output_type": "display_data"
    }
   ],
   "source": [
    "plt.imshow(images[1].squeeze(), cmap='gray'), labels[1]"
   ]
  },
  {
   "attachments": {},
   "cell_type": "markdown",
   "metadata": {},
   "source": [
    "## GAN\n",
    "\n",
    "A Generative Adversarial Network (GAN) is composed of two components: a generator and a discriminator.\n",
    "\n",
    "The generator is a neural network that takes a random vector as input and outputs a sample from the data distribution.\n",
    "\n",
    "The discriminator is a neural network that takes a sample from the data distribution as input and outputs a probability that the sample is real.\n",
    "\n",
    "The generator and discriminator are trained simultaneously. The generator is trained to fool the discriminator, and the discriminator is trained to distinguish between real and fake samples.\n",
    "\n",
    "The generator and discriminator are trained in an adversarial manner. The generator is trained to maximize the probability of the discriminator making a mistake. The discriminator is trained to maximize the probability of correctly classifying real and fake samples.\n",
    "\n",
    "The optimization problem for the generator is:"
   ]
  },
  {
   "attachments": {},
   "cell_type": "markdown",
   "metadata": {},
   "source": [
    "![GAN](../images/gans_cost.png)"
   ]
  },
  {
   "attachments": {},
   "cell_type": "markdown",
   "metadata": {},
   "source": [
    "This is read as: train G to minimize the cost function V and train D to maximize the cost function V.\n",
    "\n",
    "Where:\n",
    "    1. D(x) is the probability that x comes from the real data distribution.\n",
    "    2. D(G(z)) is the probability that G(z) comes from the data distribution.\n",
    "    3. G(z) is the output of the generator when given a random vector z."
   ]
  },
  {
   "attachments": {},
   "cell_type": "markdown",
   "metadata": {},
   "source": [
    "Latent Dimension:"
   ]
  },
  {
   "cell_type": "code",
   "execution_count": 7,
   "metadata": {},
   "outputs": [],
   "source": [
    "latent_dim = 100"
   ]
  },
  {
   "attachments": {},
   "cell_type": "markdown",
   "metadata": {},
   "source": [
    "Descriminator:"
   ]
  },
  {
   "cell_type": "code",
   "execution_count": 8,
   "metadata": {},
   "outputs": [],
   "source": [
    "class Discriminator(nn.Module):\n",
    "    def __init__(self, input_dim) -> None:\n",
    "        super().__init__()\n",
    "        \n",
    "        self.model = nn.Sequential(\n",
    "            nn.Linear(input_dim, 128),\n",
    "            nn.LeakyReLU(0.2),\n",
    "            nn.Dropout(0.3),\n",
    "            \n",
    "            nn.Linear(128, 64),\n",
    "            nn.LeakyReLU(0.2),\n",
    "            nn.Dropout(0.3),\n",
    "            \n",
    "            nn.Linear(64, 1),\n",
    "            nn.Sigmoid()\n",
    "        )\n",
    "        \n",
    "    def forward(self, x):\n",
    "        return self.model(x)\n",
    "\n",
    "discriminator = Discriminator(input_dim=images[0].numel())"
   ]
  },
  {
   "attachments": {},
   "cell_type": "markdown",
   "metadata": {},
   "source": [
    "Generator:"
   ]
  },
  {
   "cell_type": "code",
   "execution_count": 9,
   "metadata": {},
   "outputs": [],
   "source": [
    "class Generator(nn.Module):\n",
    "    def __init__(self, hidden_dim, output_dim) -> None:\n",
    "        super().__init__()\n",
    "        \n",
    "        self.model = nn.Sequential(\n",
    "            nn.Linear(hidden_dim, 128),\n",
    "            nn.LeakyReLU(0.2),\n",
    "            \n",
    "            nn.Linear(128, 256),\n",
    "            nn.LeakyReLU(0.2),\n",
    "            \n",
    "            nn.Linear(256, output_dim),\n",
    "            nn.LeakyReLU(0.2)\n",
    "        )\n",
    "        \n",
    "    def forward(self, x):\n",
    "        return self.model(x)\n",
    "\n",
    "generator = Generator(hidden_dim=latent_dim, output_dim=images[0].numel())"
   ]
  },
  {
   "attachments": {},
   "cell_type": "markdown",
   "metadata": {},
   "source": [
    "Critereon:"
   ]
  },
  {
   "cell_type": "code",
   "execution_count": 10,
   "metadata": {},
   "outputs": [],
   "source": [
    "critereon = nn.BCELoss()"
   ]
  },
  {
   "attachments": {},
   "cell_type": "markdown",
   "metadata": {},
   "source": [
    "Optimizer:"
   ]
  },
  {
   "cell_type": "code",
   "execution_count": 11,
   "metadata": {},
   "outputs": [],
   "source": [
    "optD = torch.optim.Adam(discriminator.parameters(), lr=3e-4)\n",
    "optG = torch.optim.Adam(generator.parameters(), lr=3e-4)"
   ]
  },
  {
   "attachments": {},
   "cell_type": "markdown",
   "metadata": {},
   "source": [
    "Training:"
   ]
  },
  {
   "cell_type": "code",
   "execution_count": 12,
   "metadata": {},
   "outputs": [],
   "source": [
    "epochs = 100\n",
    "train_dl = mnist['train_dl']\n",
    "val_dl = mnist['val_dl']\n",
    "test_dl = mnist['test_dl']\n",
    "real_label = 1\n",
    "fake_label = 0"
   ]
  },
  {
   "cell_type": "code",
   "execution_count": 13,
   "metadata": {},
   "outputs": [
    {
     "name": "stdout",
     "output_type": "stream",
     "text": [
      "Epoch: 1/100, D_loss: 0.9749, G_loss: 1.1219\n",
      "Epoch: 2/100, D_loss: 0.7873, G_loss: 1.4096\n",
      "Epoch: 3/100, D_loss: 0.7155, G_loss: 1.7748\n",
      "Epoch: 4/100, D_loss: 0.6624, G_loss: 1.9672\n",
      "Epoch: 5/100, D_loss: 0.6538, G_loss: 2.0726\n",
      "Epoch: 6/100, D_loss: 0.6353, G_loss: 2.1538\n",
      "Epoch: 7/100, D_loss: 0.6258, G_loss: 2.2323\n",
      "Epoch: 8/100, D_loss: 0.6299, G_loss: 2.2358\n",
      "Epoch: 9/100, D_loss: 0.6350, G_loss: 2.2405\n",
      "Epoch: 10/100, D_loss: 0.6385, G_loss: 2.2367\n",
      "Epoch: 11/100, D_loss: 0.6465, G_loss: 2.2158\n",
      "Epoch: 12/100, D_loss: 0.6535, G_loss: 2.1973\n",
      "Epoch: 13/100, D_loss: 0.6612, G_loss: 2.1777\n",
      "Epoch: 14/100, D_loss: 0.6759, G_loss: 2.1476\n",
      "Epoch: 15/100, D_loss: 0.6901, G_loss: 2.1146\n",
      "Epoch: 16/100, D_loss: 0.7061, G_loss: 2.0797\n",
      "Epoch: 17/100, D_loss: 0.7172, G_loss: 2.0511\n",
      "Epoch: 18/100, D_loss: 0.7295, G_loss: 2.0220\n",
      "Epoch: 19/100, D_loss: 0.7384, G_loss: 1.9980\n",
      "Epoch: 20/100, D_loss: 0.7512, G_loss: 1.9744\n",
      "Epoch: 21/100, D_loss: 0.7616, G_loss: 1.9491\n",
      "Epoch: 22/100, D_loss: 0.7730, G_loss: 1.9244\n",
      "Epoch: 23/100, D_loss: 0.7828, G_loss: 1.9008\n",
      "Epoch: 24/100, D_loss: 0.7942, G_loss: 1.8764\n",
      "Epoch: 25/100, D_loss: 0.8034, G_loss: 1.8545\n",
      "Epoch: 26/100, D_loss: 0.8134, G_loss: 1.8318\n",
      "Epoch: 27/100, D_loss: 0.8236, G_loss: 1.8098\n",
      "Epoch: 28/100, D_loss: 0.8316, G_loss: 1.7887\n",
      "Epoch: 29/100, D_loss: 0.8420, G_loss: 1.7677\n",
      "Epoch: 30/100, D_loss: 0.8521, G_loss: 1.7478\n",
      "Epoch: 31/100, D_loss: 0.8601, G_loss: 1.7284\n",
      "Epoch: 32/100, D_loss: 0.8684, G_loss: 1.7094\n",
      "Epoch: 33/100, D_loss: 0.8772, G_loss: 1.6905\n",
      "Epoch: 34/100, D_loss: 0.8855, G_loss: 1.6726\n",
      "Epoch: 35/100, D_loss: 0.8939, G_loss: 1.6559\n",
      "Epoch: 36/100, D_loss: 0.9012, G_loss: 1.6393\n",
      "Epoch: 37/100, D_loss: 0.9083, G_loss: 1.6230\n",
      "Epoch: 38/100, D_loss: 0.9161, G_loss: 1.6079\n",
      "Epoch: 39/100, D_loss: 0.9236, G_loss: 1.5926\n",
      "Epoch: 40/100, D_loss: 0.9306, G_loss: 1.5770\n",
      "Epoch: 41/100, D_loss: 0.9375, G_loss: 1.5632\n",
      "Epoch: 42/100, D_loss: 0.9445, G_loss: 1.5493\n",
      "Epoch: 43/100, D_loss: 0.9513, G_loss: 1.5352\n",
      "Epoch: 44/100, D_loss: 0.9572, G_loss: 1.5227\n",
      "Epoch: 45/100, D_loss: 0.9631, G_loss: 1.5102\n",
      "Epoch: 46/100, D_loss: 0.9690, G_loss: 1.4986\n",
      "Epoch: 47/100, D_loss: 0.9753, G_loss: 1.4861\n",
      "Epoch: 48/100, D_loss: 0.9806, G_loss: 1.4748\n",
      "Epoch: 49/100, D_loss: 0.9861, G_loss: 1.4639\n",
      "Epoch: 50/100, D_loss: 0.9918, G_loss: 1.4525\n",
      "Epoch: 51/100, D_loss: 0.9970, G_loss: 1.4420\n",
      "Epoch: 52/100, D_loss: 1.0023, G_loss: 1.4312\n",
      "Epoch: 53/100, D_loss: 1.0077, G_loss: 1.4207\n",
      "Epoch: 54/100, D_loss: 1.0134, G_loss: 1.4101\n",
      "Epoch: 55/100, D_loss: 1.0185, G_loss: 1.4001\n",
      "Epoch: 56/100, D_loss: 1.0233, G_loss: 1.3904\n",
      "Epoch: 57/100, D_loss: 1.0282, G_loss: 1.3806\n",
      "Epoch: 58/100, D_loss: 1.0327, G_loss: 1.3719\n",
      "Epoch: 59/100, D_loss: 1.0372, G_loss: 1.3631\n",
      "Epoch: 60/100, D_loss: 1.0411, G_loss: 1.3548\n",
      "Epoch: 61/100, D_loss: 1.0452, G_loss: 1.3469\n",
      "Epoch: 62/100, D_loss: 1.0495, G_loss: 1.3388\n",
      "Epoch: 63/100, D_loss: 1.0538, G_loss: 1.3305\n",
      "Epoch: 64/100, D_loss: 1.0576, G_loss: 1.3228\n",
      "Epoch: 65/100, D_loss: 1.0617, G_loss: 1.3150\n",
      "Epoch: 66/100, D_loss: 1.0654, G_loss: 1.3076\n",
      "Epoch: 67/100, D_loss: 1.0693, G_loss: 1.3002\n",
      "Epoch: 68/100, D_loss: 1.0733, G_loss: 1.2928\n",
      "Epoch: 69/100, D_loss: 1.0770, G_loss: 1.2856\n",
      "Epoch: 70/100, D_loss: 1.0807, G_loss: 1.2786\n",
      "Epoch: 71/100, D_loss: 1.0841, G_loss: 1.2721\n",
      "Epoch: 72/100, D_loss: 1.0875, G_loss: 1.2656\n",
      "Epoch: 73/100, D_loss: 1.0907, G_loss: 1.2592\n",
      "Epoch: 74/100, D_loss: 1.0937, G_loss: 1.2534\n",
      "Epoch: 75/100, D_loss: 1.0967, G_loss: 1.2476\n",
      "Epoch: 76/100, D_loss: 1.0996, G_loss: 1.2423\n",
      "Epoch: 77/100, D_loss: 1.1025, G_loss: 1.2371\n",
      "Epoch: 78/100, D_loss: 1.1055, G_loss: 1.2317\n",
      "Epoch: 79/100, D_loss: 1.1081, G_loss: 1.2264\n",
      "Epoch: 80/100, D_loss: 1.1109, G_loss: 1.2210\n",
      "Epoch: 81/100, D_loss: 1.1137, G_loss: 1.2158\n",
      "Epoch: 82/100, D_loss: 1.1164, G_loss: 1.2107\n",
      "Epoch: 83/100, D_loss: 1.1189, G_loss: 1.2056\n",
      "Epoch: 84/100, D_loss: 1.1215, G_loss: 1.2008\n",
      "Epoch: 85/100, D_loss: 1.1240, G_loss: 1.1960\n",
      "Epoch: 86/100, D_loss: 1.1265, G_loss: 1.1914\n",
      "Epoch: 87/100, D_loss: 1.1289, G_loss: 1.1871\n",
      "Epoch: 88/100, D_loss: 1.1312, G_loss: 1.1827\n",
      "Epoch: 89/100, D_loss: 1.1335, G_loss: 1.1783\n",
      "Epoch: 90/100, D_loss: 1.1357, G_loss: 1.1740\n",
      "Epoch: 91/100, D_loss: 1.1379, G_loss: 1.1699\n",
      "Epoch: 92/100, D_loss: 1.1402, G_loss: 1.1659\n",
      "Epoch: 93/100, D_loss: 1.1424, G_loss: 1.1617\n",
      "Epoch: 94/100, D_loss: 1.1444, G_loss: 1.1577\n",
      "Epoch: 95/100, D_loss: 1.1466, G_loss: 1.1540\n",
      "Epoch: 96/100, D_loss: 1.1486, G_loss: 1.1500\n",
      "Epoch: 97/100, D_loss: 1.1506, G_loss: 1.1464\n",
      "Epoch: 98/100, D_loss: 1.1525, G_loss: 1.1429\n",
      "Epoch: 99/100, D_loss: 1.1545, G_loss: 1.1391\n",
      "Epoch: 100/100, D_loss: 1.1563, G_loss: 1.1356\n"
     ]
    }
   ],
   "source": [
    "train_d_losses = []\n",
    "train_g_losses = []\n",
    "\n",
    "for epoch in range(epochs):\n",
    "    # train\n",
    "    for data in train_dl:\n",
    "        x, _ = data\n",
    "        x = x.squeeze().view(x.shape[0], -1)\n",
    "        z = torch.randn(x.shape[0], latent_dim)\n",
    "        fake_x = generator(z)\n",
    "        real_y = torch.full((x.shape[0],1), real_label).float()\n",
    "        fake_y = torch.full((x.shape[0],1), fake_label).float()\n",
    "        \n",
    "        # train discriminator\n",
    "        # (1) Update D network: maximize log(D(x)) + log(1 - D(G(z)))\n",
    "        optD.zero_grad()\n",
    "        real_pred = discriminator(x)\n",
    "        real_loss = critereon(real_pred, real_y)\n",
    "        real_loss.backward()\n",
    "        \n",
    "        fake_pred = discriminator(fake_x.detach())\n",
    "        fake_loss = critereon(fake_pred, fake_y)\n",
    "        fake_loss.backward()\n",
    "\n",
    "        optD.step()\n",
    "        \n",
    "        d_loss = real_loss.item() + fake_loss.item()\n",
    "        train_d_losses.append(d_loss)\n",
    "        \n",
    "        # train generator\n",
    "        # (2) Update G network: maximize log(D(G(z))), this minimizes log(1 - D(G(z)))\n",
    "        generator.zero_grad()\n",
    "        fake_pred = discriminator(fake_x)\n",
    "        fake_loss = critereon(fake_pred, real_y)\n",
    "        fake_loss.backward()\n",
    "        optG.step()\n",
    "        \n",
    "        g_loss = fake_loss.item()\n",
    "        train_g_losses.append(g_loss)\n",
    "    \n",
    "    print(f'Epoch: {epoch+1}/{epochs}, D_loss: {np.mean(train_d_losses):.4f}, G_loss: {np.mean(train_g_losses):.4f}')"
   ]
  },
  {
   "cell_type": "code",
   "execution_count": 23,
   "metadata": {},
   "outputs": [],
   "source": [
    "random_z = torch.randn(1, latent_dim)\n",
    "sample = generator(random_z)"
   ]
  },
  {
   "cell_type": "code",
   "execution_count": 24,
   "metadata": {},
   "outputs": [],
   "source": [
    "sample = sample.view(28, 28).detach().numpy()"
   ]
  },
  {
   "cell_type": "code",
   "execution_count": 25,
   "metadata": {},
   "outputs": [
    {
     "data": {
      "text/plain": [
       "<matplotlib.image.AxesImage at 0x2942f1750>"
      ]
     },
     "execution_count": 25,
     "metadata": {},
     "output_type": "execute_result"
    },
    {
     "data": {
      "image/png": "[encoded data removed]",
      "text/plain": [
       "<Figure size 350x262.5 with 1 Axes>"
      ]
     },
     "metadata": {},
     "output_type": "display_data"
    }
   ],
   "source": [
    "plt.imshow(sample, cmap='gray')"
   ]
  },
  {
   "attachments": {},
   "cell_type": "markdown",
   "metadata": {},
   "source": [
    "This was just a demo. It is recommended to use much complex models for better results."
   ]
  }
 ],
 "metadata": {
  "kernelspec": {
   "display_name": "practice",
   "language": "python",
   "name": "python3"
  },
  "language_info": {
   "codemirror_mode": {
    "name": "ipython",
    "version": 3
   },
   "file_extension": ".py",
   "mimetype": "text/x-python",
   "name": "python",
   "nbconvert_exporter": "python",
   "pygments_lexer": "ipython3",
   "version": "3.10.9"
  },
  "orig_nbformat": 4
 },
 "nbformat": 4,
 "nbformat_minor": 2
}
